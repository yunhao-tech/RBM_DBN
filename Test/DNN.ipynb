{
 "cells": [
  {
   "cell_type": "code",
   "execution_count": 4,
   "metadata": {},
   "outputs": [],
   "source": [
    "from principal_DBN_alpha import *\n",
    "from principal_RBM_alpha import *\n",
    "from scipy.special import softmax\n",
    "import torchvision\n",
    "from torchvision import transforms\n",
    "import torch\n",
    "import torch.nn as nn\n",
    "from torch.utils.data import Dataset\n",
    "import time\n",
    "import pickle\n",
    "import logging"
   ]
  },
  {
   "cell_type": "code",
   "execution_count": 2,
   "metadata": {},
   "outputs": [],
   "source": [
    "class DNN():\n",
    "    def __init__(self, config) -> None:\n",
    "        self.config = config\n",
    "        self.dbn = init_DBN(config[:-1])\n",
    "        self.classification_layer = init_RBM(config[-2], config[-1])"
   ]
  },
  {
   "cell_type": "code",
   "execution_count": 3,
   "metadata": {},
   "outputs": [],
   "source": [
    "def init_DNN(config):\n",
    "    \"\"\"Initiate the parameters in DNN\n",
    "\n",
    "    Parameters\n",
    "    ----------\n",
    "    config : list of integers\n",
    "        number of neurones in each layer\n",
    "\n",
    "    Returns\n",
    "    -------\n",
    "    instance of DNN class\n",
    "    \"\"\"\n",
    "    assert len(config) > 2, \"Must provide more than 2 integer arguments!\"\n",
    "    assert all(isinstance(x, int) for x in config), \"All inputs must be integer!\"\n",
    "    return DNN(config)"
   ]
  },
  {
   "cell_type": "code",
   "execution_count": 4,
   "metadata": {},
   "outputs": [],
   "source": [
    "def pretain_DNN(data, dnn, epochs, lr, batch_size):\n",
    "    \"\"\"Greedy layer-wise pretraining for DBN in the DNN\n",
    "\n",
    "    Parameters\n",
    "    ----------\n",
    "    data : numpy.ndarray: (n_samples, n_neurones_visible)\n",
    "        training data\n",
    "    dnn : instance of DNN class\n",
    "        a DNN structure\n",
    "    epochs : int\n",
    "        number of epochs\n",
    "    lr : float\n",
    "        learning rate\n",
    "    batch_size : int\n",
    "        number of samples in one batch\n",
    "\n",
    "    Returns\n",
    "    -------\n",
    "    a trained DNN instance\n",
    "    \"\"\"\n",
    "    dnn.dbn = train_DBN(data, dnn.dbn, epochs, lr, batch_size)\n",
    "    return dnn"
   ]
  },
  {
   "cell_type": "code",
   "execution_count": 5,
   "metadata": {},
   "outputs": [],
   "source": [
    "def calcul_softmax(data, rbm):\n",
    "    \"\"\"Compute softmax for output of RBM\n",
    "\n",
    "    Parameters\n",
    "    ----------\n",
    "    data : numpy.ndarray: (n_samples, n_neurones_visible)\n",
    "        input data\n",
    "    rbm : instance of RBM class\n",
    "\n",
    "    Returns\n",
    "    -------\n",
    "    numpy.ndarray: (n_samples, n_neurones_hidden)\n",
    "    \"\"\"\n",
    "    x = data @ rbm.w + rbm.b\n",
    "    return softmax(x, axis=1)"
   ]
  },
  {
   "cell_type": "code",
   "execution_count": 6,
   "metadata": {},
   "outputs": [],
   "source": [
    "def entree_sortie_reseau(data, dnn):\n",
    "    \"\"\"Compute output of each layer in DNN\n",
    "\n",
    "    Parameters\n",
    "    ----------\n",
    "    data : numpy.ndarray: (n_samples, n_neurones_visible)\n",
    "        input data\n",
    "    dnn : instance of DNN class\n",
    "\n",
    "    Returns\n",
    "    -------\n",
    "    list\n",
    "        list of outputs in each layer\n",
    "    \"\"\"\n",
    "    list_output = []\n",
    "    for layer in dnn.dbn.layers:\n",
    "        h_proba = entree_sortie_RBM(data, layer)\n",
    "        data = np.random.binomial(1, h_proba, size=h_proba.shape)\n",
    "        list_output.append(data)\n",
    "    list_output.append(calcul_softmax(data, dnn.classification_layer))\n",
    "    return list_output"
   ]
  },
  {
   "cell_type": "code",
   "execution_count": 7,
   "metadata": {},
   "outputs": [],
   "source": [
    "def get_data_matrix_from_dataset(dataset):\n",
    "    \"\"\"Convert the Dataset (in Pytorch) to the numpy form\n",
    "\n",
    "    Parameters\n",
    "    ----------\n",
    "    dataset : instance of Dataset class\n",
    "\n",
    "    Returns\n",
    "    -------\n",
    "    data_matrix: numpy.ndarray\n",
    "        Feature matrix of input data\n",
    "    labels: numpy.ndarray\n",
    "        Corresponding targets \n",
    "    \"\"\"\n",
    "    data_loader = torch.utils.data.DataLoader(dataset=dataset,\n",
    "                                            batch_size=256, \n",
    "                                            shuffle=False)\n",
    "    data_matrix = []\n",
    "    labels = []\n",
    "    for data, label in data_loader:\n",
    "        data_matrix.append(data)\n",
    "        labels.append(label)\n",
    "        \n",
    "    data_matrix = torch.cat(data_matrix, dim=0)\n",
    "    data_matrix = data_matrix.numpy().reshape(-1, 28*28)\n",
    "    labels = torch.cat(labels, dim=0).numpy()\n",
    "    return data_matrix, labels"
   ]
  },
  {
   "attachments": {},
   "cell_type": "markdown",
   "metadata": {},
   "source": [
    "## Load data MNIST"
   ]
  },
  {
   "cell_type": "code",
   "execution_count": 7,
   "metadata": {},
   "outputs": [],
   "source": [
    "class BinarizedMNIST(Dataset):\n",
    "    def __init__(self, dataset_mnist):\n",
    "        super(BinarizedMNIST, self).__init__()\n",
    "        self.data = dataset_mnist.data\n",
    "        self.targets = dataset_mnist.targets\n",
    "\n",
    "    def __getitem__(self, index):\n",
    "        \n",
    "        img = self.data[index]\n",
    "        target = self.targets[index]\n",
    "        img[img < 0.5] = 0\n",
    "        img[img >= 0.5] = 1\n",
    "        return img.float(), target\n",
    "\n",
    "    def __len__(self):\n",
    "        return len(self.targets)"
   ]
  },
  {
   "cell_type": "code",
   "execution_count": 11,
   "metadata": {},
   "outputs": [],
   "source": [
    "def get_model(config):\n",
    "    \"\"\"Define a model in Pytorch \n",
    "\n",
    "    Parameters\n",
    "    ----------\n",
    "    config : list of integers\n",
    "        Number of neurones in each layer\n",
    "\n",
    "    Returns\n",
    "    -------\n",
    "    model in Pytorch\n",
    "    \"\"\"\n",
    "    layers = []\n",
    "    for i in range(len(config)-2):\n",
    "        layer = nn.Linear(config[i], config[i])\n",
    "        activation = nn.Sigmoid()\n",
    "        layers.append(layer)\n",
    "        layers.append(activation)\n",
    "    layers.append(nn.Linear(config[-2], config[-1]))\n",
    "    model = nn.Sequential(*layers)\n",
    "    return model"
   ]
  },
  {
   "cell_type": "code",
   "execution_count": 12,
   "metadata": {},
   "outputs": [],
   "source": [
    "def evaluate(model, data_loader):\n",
    "    \"\"\"Evaluate the model on dataset\n",
    "\n",
    "    Parameters\n",
    "    ----------\n",
    "    model : a trained model in Pytorch\n",
    "    data_loader : DataLoader instance in Pytorch\n",
    "\n",
    "    Returns\n",
    "    -------\n",
    "    Float\n",
    "        Cross Entropy loss\n",
    "    \"\"\"\n",
    "    model.eval()\n",
    "    criterion = nn.CrossEntropyLoss()\n",
    "    loss_total = 0\n",
    "    for input, label in data_loader:\n",
    "        input = input.reshape(-1, 28*28)\n",
    "        output = model(input)\n",
    "        loss_total += criterion(output, label) * input.shape[0]\n",
    "    loss_total /= len(data_loader.dataset)\n",
    "    return loss_total"
   ]
  },
  {
   "cell_type": "code",
   "execution_count": 13,
   "metadata": {},
   "outputs": [],
   "source": [
    "def set_params_from_dnn_to_torchModel(dnn, model):\n",
    "    \"\"\"Set parameters of DNN to a model in Pytorch\n",
    "\n",
    "    Parameters\n",
    "    ----------\n",
    "    dnn : instance of DNN class\n",
    "    model : a model in Pytorch\n",
    "    \"\"\"\n",
    "    with torch.no_grad():\n",
    "        for i in range(dnn.dbn.n_layers):\n",
    "            new_w = np.swapaxes(dnn.dbn.layers[i].w, 0, 1)\n",
    "            model[2*i].weight = nn.Parameter(torch.from_numpy(new_w).float())\n",
    "            model[2*i].bias = nn.Parameter(torch.from_numpy(dnn.dbn.layers[i].b).float())\n",
    "        new_w = np.swapaxes(dnn.classification_layer.w, 0, 1)\n",
    "        model[-1].weight = nn.Parameter(torch.from_numpy(new_w).float())\n",
    "        model[-1].bias = nn.Parameter(torch.from_numpy(dnn.classification_layer.b).float())\n"
   ]
  },
  {
   "cell_type": "code",
   "execution_count": 14,
   "metadata": {},
   "outputs": [],
   "source": [
    "def set_params_from_torchModel_to_dnn(dnn, model):\n",
    "    \"\"\"Set parameters of a model in Pytorch to DNN\n",
    "\n",
    "    Parameters\n",
    "    ----------\n",
    "    dnn : instance of DNN class\n",
    "    model : a model in Pytorch\n",
    "    \"\"\"\n",
    "    with torch.no_grad():\n",
    "        for i in range(dnn.dbn.n_layers):\n",
    "            dnn.dbn.layers[i].w = np.swapaxes(model[2*i].weight.numpy(), 0, 1)\n",
    "            dnn.dbn.layers[i].b = model[2*i].bias.numpy()\n",
    "        dnn.classification_layer.w = np.swapaxes(model[-1].weight.numpy(), 0, 1)\n",
    "        dnn.classification_layer.b = model[-1].bias.numpy()"
   ]
  },
  {
   "cell_type": "code",
   "execution_count": 15,
   "metadata": {},
   "outputs": [],
   "source": [
    "def train_DNN(dataset, dnn, epochs, lr, batch_size, pre_training=True):\n",
    "    \"\"\"Train a Pytorch model, then convert it to a DNN instance\n",
    "\n",
    "    Parameters\n",
    "    ----------\n",
    "    dataset : Dataset instance\n",
    "        Training data\n",
    "    dnn : instance of DNN class\n",
    "    epochs : int\n",
    "        number of epochs\n",
    "    lr : float\n",
    "        learning rate\n",
    "    batch_size : int\n",
    "        number of samples in one batch\n",
    "    pre_training : bool, optional\n",
    "        whether to load the parameters of dnn to Pytorch model, by default True\n",
    "\n",
    "    Returns\n",
    "    -------\n",
    "    dnn : a trained DNN\n",
    "    \"\"\"\n",
    "    model = get_model(dnn.config)\n",
    "    model = model.float()\n",
    "    if pre_training:\n",
    "        set_params_from_dnn_to_torchModel(dnn, model)\n",
    "    criterion = nn.CrossEntropyLoss()\n",
    "    optimizer = torch.optim.SGD(model.parameters(), lr=lr)\n",
    "    data_loader = torch.utils.data.DataLoader(dataset=dataset,\n",
    "                                            batch_size=batch_size, \n",
    "                                            shuffle=True)\n",
    "\n",
    "    for epoch in range(1, epochs+1):\n",
    "        model.train()\n",
    "        for input, label in data_loader:\n",
    "            input = input.reshape(-1, 28*28)\n",
    "            optimizer.zero_grad()\n",
    "            output = model.forward(input)\n",
    "            loss = criterion(output, label)\n",
    "            loss.backward() \n",
    "            optimizer.step()\n",
    "        loss_total = evaluate(model, data_loader)\n",
    "        print(f\"Epoch: {epoch:>3d} | Evaluation CE loss on training set : {loss_total:.2f}\")\n",
    "\n",
    "    set_params_from_torchModel_to_dnn(dnn, model)\n",
    "    \n",
    "    return dnn"
   ]
  },
  {
   "cell_type": "code",
   "execution_count": 16,
   "metadata": {},
   "outputs": [],
   "source": [
    "def test_DNN(data_matrix, labels, dnn):\n",
    "    \"\"\"Evaluate the DNN \n",
    "\n",
    "    Parameters\n",
    "    ----------\n",
    "    data_matrix: numpy.ndarray\n",
    "        Feature matrix of input data\n",
    "    labels: numpy.ndarray\n",
    "        Corresponding targets \n",
    "    dnn : a trained DNN\n",
    "\n",
    "    Returns\n",
    "    -------\n",
    "    Float\n",
    "        Error rate of classification\n",
    "    \"\"\"\n",
    "    outputs = entree_sortie_reseau(data_matrix, dnn)\n",
    "    pred = np.argmax(outputs[-1], axis=1)\n",
    "    err_rate = np.mean(pred != labels)\n",
    "    return err_rate"
   ]
  },
  {
   "cell_type": "code",
   "execution_count": 56,
   "metadata": {},
   "outputs": [],
   "source": [
    "logging.config.fileConfig(\"logging.conf\")\n",
    "logger = logging.getLogger()"
   ]
  },
  {
   "cell_type": "code",
   "execution_count": 57,
   "metadata": {},
   "outputs": [],
   "source": [
    "def retropropagation(dataset, dataset_test, dnn, epochs, lr, batch_size, pre_training=True, pre_trained_model=\"3_layer_200\"):\n",
    "    \"\"\"Training process of DNN\n",
    "\n",
    "    Parameters\n",
    "    ----------\n",
    "    dataset : Dataset instance\n",
    "        Training data\n",
    "    dataset_test : Dataset instance\n",
    "        Test data\n",
    "    dnn : instance of DNN class\n",
    "    epochs : int\n",
    "        number of epochs\n",
    "    lr : float\n",
    "        learning rate\n",
    "    batch_size : int\n",
    "        number of samples in one batch\n",
    "    pre_training : bool, optional\n",
    "        whether to pre-train the DNN in an unsupervised way, by default True\n",
    "    pre_trained_model : str, optional\n",
    "        the file name of pre-trained DNN model. Used to load or save model\n",
    "\n",
    "    Returns\n",
    "    -------\n",
    "    dnn : a trained DNN\n",
    "    \"\"\"\n",
    "    logger.info(\"Loading data matrix from dataset...\")\n",
    "    data_matrix, labels = get_data_matrix_from_dataset(dataset)\n",
    "    if pre_training:\n",
    "        filepath = os.path.join(\"models\", pre_trained_model + \".pickle\")\n",
    "        if os.path.isfile(filepath):\n",
    "            logger.info(\"Loading pretrained DNN model from \" + filepath)\n",
    "            with open(filepath, 'rb') as handle:\n",
    "                dnn = pickle.load(handle)\n",
    "        else:\n",
    "            logger.info(\"Start pretraining DNN...\")\n",
    "            start_time = time.time()\n",
    "            dnn = pretain_DNN(data_matrix, dnn, 100, lr, batch_size)\n",
    "            logger.info(f\"Pretraining finished! Consumed time: {(time.time()- start_time):.2f}s\")\n",
    "            with open(filepath, 'wb') as handle:\n",
    "                pickle.dump(dnn, handle, protocol=pickle.HIGHEST_PROTOCOL)\n",
    "\n",
    "    logger.info(\"Start fine-tuning DNN...\")\n",
    "    start_time = time.time()\n",
    "    dnn = train_DNN(dataset, dnn, epochs, lr, batch_size, pre_training)\n",
    "    logger.info(f\"Fine-tuning finished! Consumed time: {(time.time()- start_time):.2f}s\")\n",
    "\n",
    "    err_rate = test_DNN(data_matrix, labels, dnn)\n",
    "    data_matrix_test, labels_test = get_data_matrix_from_dataset(dataset_test)\n",
    "    err_rate_test = test_DNN(data_matrix_test, labels_test, dnn)\n",
    "    logger.info(f\"After fine-tuning: error rate on training set = {err_rate * 100:.1f}% || \" \n",
    "          f\"error rate on test set = {err_rate_test * 100:.1f}%\")\n",
    "\n",
    "    return dnn"
   ]
  },
  {
   "cell_type": "code",
   "execution_count": 5,
   "metadata": {},
   "outputs": [],
   "source": [
    "batch_size = 128\n",
    "\n",
    "data_dir = 'data'\n",
    "# MNIST dataset\n",
    "dataset = torchvision.datasets.MNIST(root=data_dir,\n",
    "                                     train=True,\n",
    "                                     transform=transforms.ToTensor(),\n",
    "                                     download=True)\n",
    "\n",
    "# Data loader\n",
    "dataset_test = torchvision.datasets.MNIST(data_dir, \n",
    "                                          train=False, \n",
    "                                          download=True, \n",
    "                                          transform=transforms.ToTensor())"
   ]
  },
  {
   "cell_type": "code",
   "execution_count": 8,
   "metadata": {},
   "outputs": [],
   "source": [
    "dataset_binarized = BinarizedMNIST(dataset)\n",
    "dataset_binarized_test = BinarizedMNIST(dataset_test)"
   ]
  },
  {
   "cell_type": "code",
   "execution_count": 38,
   "metadata": {},
   "outputs": [],
   "source": [
    "import warnings\n",
    "\n",
    "warnings.filterwarnings('ignore')"
   ]
  },
  {
   "cell_type": "code",
   "execution_count": 58,
   "metadata": {},
   "outputs": [
    {
     "name": "stdout",
     "output_type": "stream",
     "text": [
      "2023-02-25 18:39:51|    INFO|2714304349.py[:26]|Loading data matrix from dataset...\n",
      "2023-02-25 18:39:53|    INFO|2714304349.py[:31]|Loading pretrained DNN model from models\\3_layers_200.pickle\n",
      "2023-02-25 18:39:53|    INFO|2714304349.py[:42]|Start fine-tuning DNN...\n",
      "Epoch:   1 | Evaluation CE loss on training set : 0.33\n",
      "Epoch:   2 | Evaluation CE loss on training set : 0.27\n",
      "2023-02-25 18:40:12|    INFO|2714304349.py[:45]|Fine-tuning finished! Consumed time: 18.80s\n",
      "2023-02-25 18:40:16|    INFO|2714304349.py[:50]|After fine-tuning: error rate on training set = 10.0% || error rate on test set = 9.5%\n"
     ]
    }
   ],
   "source": [
    "dnn = init_DNN([784, 200, 200, 200, 10])\n",
    "dnn = retropropagation(dataset_binarized, dataset_binarized_test,\n",
    "                       dnn, 2, 1e-1, 128, pre_training=True, pre_trained_model=\"3_layers_200\")"
   ]
  },
  {
   "cell_type": "code",
   "execution_count": 59,
   "metadata": {},
   "outputs": [
    {
     "data": {
      "text/plain": [
       "[<TimedRotatingFileHandler d:\\VScode\\RBM_DBN\\logs\\DNNlog.log (DEBUG)>,\n",
       " <StreamHandler stdout (DEBUG)>]"
      ]
     },
     "execution_count": 59,
     "metadata": {},
     "output_type": "execute_result"
    }
   ],
   "source": [
    "logger.handlers"
   ]
  },
  {
   "cell_type": "code",
   "execution_count": 60,
   "metadata": {},
   "outputs": [],
   "source": [
    "for hdle in logger.handlers[:]:\n",
    "    if isinstance(hdle,logging.FileHandler): \n",
    "        hdle.close()\n",
    "        logger.removeHandler(hdle)"
   ]
  },
  {
   "cell_type": "code",
   "execution_count": 61,
   "metadata": {},
   "outputs": [
    {
     "data": {
      "text/plain": [
       "True"
      ]
     },
     "execution_count": 61,
     "metadata": {},
     "output_type": "execute_result"
    }
   ],
   "source": [
    "os.path.exists(\"models\")"
   ]
  },
  {
   "cell_type": "code",
   "execution_count": 62,
   "metadata": {},
   "outputs": [],
   "source": [
    "os.makedirs(\"test A/B\")"
   ]
  },
  {
   "cell_type": "code",
   "execution_count": 1,
   "metadata": {},
   "outputs": [
    {
     "ename": "NameError",
     "evalue": "name 'os' is not defined",
     "output_type": "error",
     "traceback": [
      "\u001b[1;31m---------------------------------------------------------------------------\u001b[0m",
      "\u001b[1;31mNameError\u001b[0m                                 Traceback (most recent call last)",
      "Cell \u001b[1;32mIn [1], line 1\u001b[0m\n\u001b[1;32m----> 1\u001b[0m os\u001b[39m.\u001b[39mpath\u001b[39m.\u001b[39mexists(os\u001b[39m.\u001b[39mpath\u001b[39m.\u001b[39mjoin(\u001b[39m\"\u001b[39m\u001b[39moutput/DBN\u001b[39m\u001b[39m\"\u001b[39m, \u001b[39m\"\u001b[39m\u001b[39mDBN_layers_2_nodes_100_character(s)_1.png\u001b[39m\u001b[39m\"\u001b[39m))\n",
      "\u001b[1;31mNameError\u001b[0m: name 'os' is not defined"
     ]
    }
   ],
   "source": [
    "os.path.exists(os.path.join(\"output/DBN\", \"DBN_layers_2_nodes_100_character(s)_1.png\"))"
   ]
  },
  {
   "cell_type": "code",
   "execution_count": 8,
   "metadata": {},
   "outputs": [
    {
     "name": "stdout",
     "output_type": "stream",
     "text": [
      "The autoreload extension is already loaded. To reload it, use:\n",
      "  %reload_ext autoreload\n"
     ]
    }
   ],
   "source": [
    "%load_ext autoreload\n",
    "%autoreload 2"
   ]
  },
  {
   "cell_type": "code",
   "execution_count": 1,
   "metadata": {},
   "outputs": [
    {
     "name": "stdout",
     "output_type": "stream",
     "text": [
      "Loading data...\n",
      "Finished!\n"
     ]
    },
    {
     "data": {
      "text/plain": [
       "array([[0, 0, 0, ..., 1, 0, 0],\n",
       "       [0, 0, 0, ..., 1, 1, 1],\n",
       "       [0, 0, 0, ..., 1, 1, 1],\n",
       "       ...,\n",
       "       [0, 1, 1, ..., 1, 1, 1],\n",
       "       [0, 0, 0, ..., 0, 1, 1],\n",
       "       [0, 0, 0, ..., 1, 1, 1]], dtype=uint8)"
      ]
     },
     "execution_count": 1,
     "metadata": {},
     "output_type": "execute_result"
    }
   ],
   "source": [
    "from principal_RBM_alpha import *\n",
    "lire_alpha_digit()"
   ]
  },
  {
   "cell_type": "code",
   "execution_count": 9,
   "metadata": {},
   "outputs": [],
   "source": [
    "import random\n",
    "\n",
    "indice = random.sample(range(len(dataset_binarized)), 1000)"
   ]
  },
  {
   "cell_type": "code",
   "execution_count": 10,
   "metadata": {},
   "outputs": [],
   "source": [
    "trainset_1000 = torch.utils.data.Subset(dataset_binarized, indice)"
   ]
  },
  {
   "cell_type": "code",
   "execution_count": 1,
   "metadata": {},
   "outputs": [],
   "source": [
    "import matplotlib.pyplot as plt"
   ]
  },
  {
   "cell_type": "code",
   "execution_count": 4,
   "metadata": {},
   "outputs": [
    {
     "data": {
      "image/png": "[encoded data removed]",
      "text/plain": [
       "<Figure size 640x480 with 1 Axes>"
      ]
     },
     "metadata": {},
     "output_type": "display_data"
    }
   ],
   "source": [
    "x = [2, 3, 5]\n",
    "y1 = [6.2, 7.7, 11.2]\n",
    "y2 = [7.3, 8.1, 11.3]\n",
    "y3 = [28.1, 44.2, 76.5]\n",
    "y4 = [28.5, 44.4, 76.3]\n",
    "\n",
    "plt.plot(x, y1, label='pre-training, train')\n",
    "plt.plot(x, y2, label='pre-training, test')\n",
    "plt.plot(x, y3, label='no pre-training, train')\n",
    "plt.plot(x, y4, label='no pre-training, test')\n",
    "plt.xlabel(\"#hidden layers\")\n",
    "plt.ylabel(\"Error rate\")\n",
    "plt.title(\"#neurons per layer fixed as 200\", fontsize=12)\n",
    "plt.legend()\n",
    "plt.show()"
   ]
  },
  {
   "cell_type": "code",
   "execution_count": 7,
   "metadata": {},
   "outputs": [
    {
     "data": {
      "image/png": "[encoded data removed]",
      "text/plain": [
       "<Figure size 640x480 with 1 Axes>"
      ]
     },
     "metadata": {},
     "output_type": "display_data"
    }
   ],
   "source": [
    "x = [1000, 3000, 7000, 10000, 30000, 60000]\n",
    "y1 = [6.3, 6.0, 5.7, 5.7, 5.7, 6.2]\n",
    "y2 = [12.9, 11.5, 8.6, 8.0, 7.3, 7.3]\n",
    "y3 = [24.7, 22.5, 24.6, 26.0, 26.6, 28.1]\n",
    "y4 = [30.8, 25.5, 26.2, 28.4, 27.5, 28.5]\n",
    "\n",
    "plt.plot(x, y1, label='pre-training, train')\n",
    "plt.plot(x, y2, label='pre-training, test')\n",
    "plt.plot(x, y3, label='no pre-training, train')\n",
    "plt.plot(x, y4, label='no pre-training, test')\n",
    "plt.xlabel(\"#training samples\")\n",
    "plt.ylabel(\"Error rate\")\n",
    "plt.title(\"#layers fixed as 2, #neurons per layer fixed as 200\", fontsize=12)\n",
    "plt.legend()\n",
    "plt.show()"
   ]
  },
  {
   "cell_type": "code",
   "execution_count": 8,
   "metadata": {},
   "outputs": [
    {
     "data": {
      "image/png": "[encoded data removed]",
      "text/plain": [
       "<Figure size 640x480 with 1 Axes>"
      ]
     },
     "metadata": {},
     "output_type": "display_data"
    }
   ],
   "source": [
    "x = [100, 200, 300, 700]\n",
    "y1 = [8.3, 6.2, 5.3, 4.8]\n",
    "y2 = [9.3, 7.3, 6.6, 6.3]\n",
    "y3 = [29.9, 28.1, 27.3, 26.9]\n",
    "y4 = [29.8, 28.5, 28.3, 27.5]\n",
    "\n",
    "plt.plot(x, y1, label='pre-training, train')\n",
    "plt.plot(x, y2, label='pre-training, test')\n",
    "plt.plot(x, y3, label='no pre-training, train')\n",
    "plt.plot(x, y4, label='no pre-training, test')\n",
    "plt.xlabel(\"#hidden neurons per layer\")\n",
    "plt.ylabel(\"Error rate\")\n",
    "plt.title(\"#layers fixed as 2\", fontsize=12)\n",
    "plt.legend()\n",
    "plt.show()"
   ]
  },
  {
   "cell_type": "code",
   "execution_count": null,
   "metadata": {},
   "outputs": [],
   "source": []
  }
 ],
 "metadata": {
  "kernelspec": {
   "display_name": "RBM",
   "language": "python",
   "name": "python3"
  },
  "language_info": {
   "codemirror_mode": {
    "name": "ipython",
    "version": 3
   },
   "file_extension": ".py",
   "mimetype": "text/x-python",
   "name": "python",
   "nbconvert_exporter": "python",
   "pygments_lexer": "ipython3",
   "version": "3.9.15"
  },
  "orig_nbformat": 4,
  "vscode": {
   "interpreter": {
    "hash": "ab13bbb0365eb9f71a057dd0e709937dfef2cc1e3c8bd5500e532246e40fdeed"
   }
  }
 },
 "nbformat": 4,
 "nbformat_minor": 2
}

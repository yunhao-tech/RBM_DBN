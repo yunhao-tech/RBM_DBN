{
 "cells": [
  {
   "cell_type": "code",
   "execution_count": 14,
   "metadata": {},
   "outputs": [
    {
     "name": "stdout",
     "output_type": "stream",
     "text": [
      "The autoreload extension is already loaded. To reload it, use:\n",
      "  %reload_ext autoreload\n"
     ]
    }
   ],
   "source": [
    "%load_ext autoreload\n",
    "%autoreload 2\n",
    "\n",
    "from principal_RBM_alpha import *\n"
   ]
  },
  {
   "cell_type": "code",
   "execution_count": 2,
   "metadata": {},
   "outputs": [],
   "source": [
    "class DBN():\n",
    "    def __init__(self, config) -> None:\n",
    "        self.layers = []\n",
    "        for i in range(len(config)-1):\n",
    "            layer = init_RBM(config[i], config[i+1])\n",
    "            self.layers.append(layer)\n",
    "        self.n_layers = len(self.layers)"
   ]
  },
  {
   "cell_type": "code",
   "execution_count": 3,
   "metadata": {},
   "outputs": [],
   "source": [
    "def init_DBN(config):\n",
    "    \"\"\"Initiate the parameters in RBM\n",
    "\n",
    "    Parameters\n",
    "    ----------\n",
    "    config : list of integers\n",
    "        number of neurones in each layer\n",
    "\n",
    "    Returns\n",
    "    -------\n",
    "    instance of DBN class\n",
    "    \"\"\"\n",
    "    assert len(config) > 2, \"Must provide more than 2 integer arguments!\"\n",
    "    assert all(isinstance(x, int) for x in config), \"All inputs must be integer!\"\n",
    "    return DBN(config)"
   ]
  },
  {
   "cell_type": "code",
   "execution_count": 8,
   "metadata": {},
   "outputs": [],
   "source": [
    "def train_DBN(data, dbn, epochs, lr, batch_size):\n",
    "    \"\"\"Training process of DBN\n",
    "\n",
    "    Parameters\n",
    "    ----------\n",
    "    data : numpy.ndarray: (n_samples, n_neurones_visible)\n",
    "        training data\n",
    "    dbn : instance of DBN class\n",
    "        a DBN structure\n",
    "    epochs : int\n",
    "        number of epochs\n",
    "    lr : float\n",
    "        learning rate\n",
    "    batch_size : int\n",
    "        number of samples in one batch\n",
    "\n",
    "    Returns\n",
    "    -------\n",
    "    dbn: a trained DBN instance\n",
    "    \"\"\"\n",
    "    for i in range(dbn.n_layers):\n",
    "        dbn.layers[i], _ = train_RBM(data, dbn.layers[i], epochs, lr, batch_size, verbose=0)\n",
    "        data = entree_sortie_RBM(data, dbn.layers[i])\n",
    "    return dbn"
   ]
  },
  {
   "cell_type": "code",
   "execution_count": 5,
   "metadata": {},
   "outputs": [
    {
     "name": "stdout",
     "output_type": "stream",
     "text": [
      "Loading data...\n",
      "Finished!\n"
     ]
    }
   ],
   "source": [
    "all_data = lire_alpha_digit()"
   ]
  },
  {
   "cell_type": "code",
   "execution_count": 9,
   "metadata": {},
   "outputs": [],
   "source": [
    "dbn = init_DBN([320, 200, 100, 50])\n",
    "dbn_trained = train_DBN(all_data, dbn, 50, 1e-1, 16)"
   ]
  },
  {
   "cell_type": "code",
   "execution_count": 16,
   "metadata": {},
   "outputs": [],
   "source": [
    "def generer_image_DBN(dbn_trained, n_gibbs, n_images, show_image=True):\n",
    "    \"\"\"Generate image from randomly sampled data\n",
    "\n",
    "    Parameters\n",
    "    ----------\n",
    "    dbn_trained : a trained DBN\n",
    "    n_gibbs : int\n",
    "        number of iterations in Gibbs sampling in last layer of DBN\n",
    "    n_images : int\n",
    "        number of images to generate\n",
    "    show_image : bool, optional\n",
    "        whether to show images during generation, by default True\n",
    "    \"\"\"\n",
    "    v = generer_image_RBM(dbn_trained.layers[-1], n_gibbs, n_images, show_image=False)\n",
    "    for i in reversed(range(dbn_trained.n_layers-1)):\n",
    "        v_proba = sortie_entree_RBM(v, dbn_trained.layers[i])\n",
    "        v = np.random.binomial(1, v_proba, size=v_proba.shape)\n",
    "    if show_image:\n",
    "        for i in range(v.shape[0]):\n",
    "            plt.figure()\n",
    "            plt.imshow(v[i].reshape(20, 16))\n",
    "    "
   ]
  },
  {
   "cell_type": "code",
   "execution_count": 17,
   "metadata": {},
   "outputs": [
    {
     "data": {
      "image/png": "[encoded data removed]",
      "text/plain": [
       "<Figure size 640x480 with 1 Axes>"
      ]
     },
     "metadata": {},
     "output_type": "display_data"
    },
    {
     "data": {
      "image/png": "[encoded data removed]",
      "text/plain": [
       "<Figure size 640x480 with 1 Axes>"
      ]
     },
     "metadata": {},
     "output_type": "display_data"
    }
   ],
   "source": [
    "generer_image_DBN(dbn_trained, 200, 2)"
   ]
  },
  {
   "cell_type": "code",
   "execution_count": null,
   "metadata": {},
   "outputs": [],
   "source": []
  }
 ],
 "metadata": {
  "kernelspec": {
   "display_name": "RBM",
   "language": "python",
   "name": "python3"
  },
  "language_info": {
   "codemirror_mode": {
    "name": "ipython",
    "version": 3
   },
   "file_extension": ".py",
   "mimetype": "text/x-python",
   "name": "python",
   "nbconvert_exporter": "python",
   "pygments_lexer": "ipython3",
   "version": "3.9.15"
  },
  "orig_nbformat": 4,
  "vscode": {
   "interpreter": {
    "hash": "ab13bbb0365eb9f71a057dd0e709937dfef2cc1e3c8bd5500e532246e40fdeed"
   }
  }
 },
 "nbformat": 4,
 "nbformat_minor": 2
}
